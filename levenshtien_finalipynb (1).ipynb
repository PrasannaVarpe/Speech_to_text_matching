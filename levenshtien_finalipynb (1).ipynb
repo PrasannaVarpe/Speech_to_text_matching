{
  "nbformat": 4,
  "nbformat_minor": 0,
  "metadata": {
    "colab": {
      "provenance": []
    },
    "kernelspec": {
      "name": "python3",
      "display_name": "Python 3"
    },
    "language_info": {
      "name": "python"
    }
  },
  "cells": [
    {
      "cell_type": "code",
      "source": [
        "!pip install thefuzz\n",
        "from thefuzz import fuzz\n",
        "from thefuzz import process"
      ],
      "metadata": {
        "id": "0ZEO41grUdAl",
        "colab": {
          "base_uri": "https://localhost:8080/"
        },
        "outputId": "3ce552bc-84ae-4a45-84d0-34e42e6a7cb5"
      },
      "execution_count": null,
      "outputs": [
        {
          "output_type": "stream",
          "name": "stdout",
          "text": [
            "Looking in indexes: https://pypi.org/simple, https://us-python.pkg.dev/colab-wheels/public/simple/\n",
            "Collecting thefuzz\n",
            "  Downloading thefuzz-0.19.0-py2.py3-none-any.whl (17 kB)\n",
            "Installing collected packages: thefuzz\n",
            "Successfully installed thefuzz-0.19.0\n"
          ]
        },
        {
          "output_type": "stream",
          "name": "stderr",
          "text": [
            "/usr/local/lib/python3.10/dist-packages/thefuzz/fuzz.py:11: UserWarning: Using slow pure-python SequenceMatcher. Install python-Levenshtein to remove this warning\n",
            "  warnings.warn('Using slow pure-python SequenceMatcher. Install python-Levenshtein to remove this warning')\n"
          ]
        }
      ]
    },
    {
      "cell_type": "code",
      "source": [
        "ivr=(\"To speak with a sales representative, press 1.To reach a customer support agent, press 2.To reach our billing department, press 3.For more information about [Company], press 4.To leave a voicemail, press 5.To review your options, press 9.\")"
      ],
      "metadata": {
        "id": "_AN8NBMkmjxN"
      },
      "execution_count": null,
      "outputs": []
    },
    {
      "cell_type": "code",
      "source": [
        "def list_to_dict():\n",
        "  x=ivr.split('.')\n",
        "  n=[]\n",
        "  ab=[]\n",
        "  for i in x:\n",
        "    ab=i.split()\n",
        "    n.append(ab)\n",
        "  liner=len(x)+1\n",
        "  line=range(1,liner)\n",
        "  res = dict(zip(line,n))\n",
        "  return res"
      ],
      "metadata": {
        "id": "U0m80g7OUdDD"
      },
      "execution_count": null,
      "outputs": []
    },
    {
      "cell_type": "code",
      "source": [
        "def finding_no():\n",
        "  res=list_to_dict()\n",
        "  full_name = \"sales\"\n",
        "  for k in res.values():\n",
        "    ratio=process.extractOne(full_name,k,scorer=fuzz.ratio)\n",
        "    no=ratio[-1]\n",
        "    if no >= 75:\n",
        "      a=k\n",
        "      value = {i for i in res if res[i]==a}\n",
        "      print(\"press:\",value)\n",
        "    else:\n",
        "      break"
      ],
      "metadata": {
        "id": "LhQ6cy_oVqqb"
      },
      "execution_count": null,
      "outputs": []
    },
    {
      "cell_type": "code",
      "source": [
        "finding_no()"
      ],
      "metadata": {
        "colab": {
          "base_uri": "https://localhost:8080/"
        },
        "id": "eFQ2kBdNnp-P",
        "outputId": "27c4dd94-04ac-40eb-e1c8-348e1db4e4a0"
      },
      "execution_count": null,
      "outputs": [
        {
          "output_type": "stream",
          "name": "stdout",
          "text": [
            "press: {1}\n"
          ]
        }
      ]
    },
    {
      "cell_type": "code",
      "source": [],
      "metadata": {
        "id": "sgbca1Cjz9s4"
      },
      "execution_count": null,
      "outputs": []
    },
    {
      "cell_type": "code",
      "source": [],
      "metadata": {
        "id": "FCSKp16lz9v_"
      },
      "execution_count": null,
      "outputs": []
    },
    {
      "cell_type": "code",
      "source": [],
      "metadata": {
        "id": "XvlsaQurz901"
      },
      "execution_count": null,
      "outputs": []
    },
    {
      "cell_type": "code",
      "source": [
        "!pip install SpeechRecognition\n",
        "!pip install PyAudio\n",
        "!pip install Portaudio"
      ],
      "metadata": {
        "id": "SPYEoDPQz94F"
      },
      "execution_count": null,
      "outputs": []
    },
    {
      "cell_type": "code",
      "source": [
        "!pip3 install pocketsphinx\n"
      ],
      "metadata": {
        "colab": {
          "base_uri": "https://localhost:8080/"
        },
        "id": "vIAG0h9c3RZT",
        "outputId": "b3ada911-71ca-4973-80e5-8914492666e3"
      },
      "execution_count": 7,
      "outputs": [
        {
          "output_type": "stream",
          "name": "stdout",
          "text": [
            "Looking in indexes: https://pypi.org/simple, https://us-python.pkg.dev/colab-wheels/public/simple/\n",
            "Collecting pocketsphinx\n",
            "  Downloading pocketsphinx-5.0.0-cp310-cp310-manylinux_2_17_x86_64.manylinux2014_x86_64.whl (29.1 MB)\n",
            "\u001b[2K     \u001b[90m━━━━━━━━━━━━━━━━━━━━━━━━━━━━━━━━━━━━━━━━\u001b[0m \u001b[32m29.1/29.1 MB\u001b[0m \u001b[31m22.1 MB/s\u001b[0m eta \u001b[36m0:00:00\u001b[0m\n",
            "\u001b[?25hCollecting sounddevice (from pocketsphinx)\n",
            "  Downloading sounddevice-0.4.6-py3-none-any.whl (31 kB)\n",
            "Requirement already satisfied: CFFI>=1.0 in /usr/local/lib/python3.10/dist-packages (from sounddevice->pocketsphinx) (1.15.1)\n",
            "Requirement already satisfied: pycparser in /usr/local/lib/python3.10/dist-packages (from CFFI>=1.0->sounddevice->pocketsphinx) (2.21)\n",
            "Installing collected packages: sounddevice, pocketsphinx\n",
            "Successfully installed pocketsphinx-5.0.0 sounddevice-0.4.6\n"
          ]
        }
      ]
    },
    {
      "cell_type": "code",
      "source": [
        "#import library\n",
        "import speech_recognition as sr\n",
        "#Initiаlize  reсоgnizer  сlаss  (fоr  reсоgnizing  the  sрeeсh)\n",
        "r = sr.Recognizer()\n",
        "# Reading Audio file as source\n",
        "#  listening  the  аudiо  file  аnd  stоre  in  аudiо_text  vаriаble\n",
        "with sr.AudioFile('/content/4.wav') as source:\n",
        "    audio_text = r.listen(source)\n",
        "# recoginize_() method will throw a request error if the API is unreachable, hence using exception handling\n",
        "    try:\n",
        "        # using google speech recognition\n",
        "        text = r.recognize_sphinx(audio_text)\n",
        "        print('Converting audio transcripts into text ...')\n",
        "        print(text)\n",
        "    except:\n",
        "         print('Sorry.. run again...')"
      ],
      "metadata": {
        "id": "V1-J5H0CnqA0",
        "colab": {
          "base_uri": "https://localhost:8080/"
        },
        "outputId": "a3f13142-0812-4332-a1d1-3b01d86274cb"
      },
      "execution_count": 8,
      "outputs": [
        {
          "output_type": "stream",
          "name": "stdout",
          "text": [
            "Converting audio transcripts into text ...\n",
            "i knew me during an alley that led on the package\n"
          ]
        }
      ]
    },
    {
      "cell_type": "code",
      "source": [],
      "metadata": {
        "id": "AMt9R0fgnqDS"
      },
      "execution_count": null,
      "outputs": []
    },
    {
      "cell_type": "code",
      "source": [],
      "metadata": {
        "id": "ADuO8W_XVqs4"
      },
      "execution_count": null,
      "outputs": []
    }
  ]
}